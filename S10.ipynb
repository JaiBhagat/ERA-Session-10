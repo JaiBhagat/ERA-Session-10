{
  "nbformat": 4,
  "nbformat_minor": 0,
  "metadata": {
    "colab": {
      "provenance": []
    },
    "kernelspec": {
      "display_name": "Python 3",
      "name": "python3"
    },
    "accelerator": "GPU",
    "widgets": {
      "application/vnd.jupyter.widget-state+json": {
        "9c10d25e1db4498183868390a424870e": {
          "model_module": "@jupyter-widgets/controls",
          "model_name": "HBoxModel",
          "model_module_version": "1.5.0",
          "state": {
            "_dom_classes": [],
            "_model_module": "@jupyter-widgets/controls",
            "_model_module_version": "1.5.0",
            "_model_name": "HBoxModel",
            "_view_count": null,
            "_view_module": "@jupyter-widgets/controls",
            "_view_module_version": "1.5.0",
            "_view_name": "HBoxView",
            "box_style": "",
            "children": [
              "IPY_MODEL_9748ba4cf1d3422893062d75b68c9c23",
              "IPY_MODEL_95d3608d114040f59aa03b29ad9629be",
              "IPY_MODEL_f27bb92b4a464bb6a7b9ed0a655f7010"
            ],
            "layout": "IPY_MODEL_2495f888bd6d4f1c813183ff62343eb7"
          }
        },
        "9748ba4cf1d3422893062d75b68c9c23": {
          "model_module": "@jupyter-widgets/controls",
          "model_name": "HTMLModel",
          "model_module_version": "1.5.0",
          "state": {
            "_dom_classes": [],
            "_model_module": "@jupyter-widgets/controls",
            "_model_module_version": "1.5.0",
            "_model_name": "HTMLModel",
            "_view_count": null,
            "_view_module": "@jupyter-widgets/controls",
            "_view_module_version": "1.5.0",
            "_view_name": "HTMLView",
            "description": "",
            "description_tooltip": null,
            "layout": "IPY_MODEL_eea2e64a25454e1fad0222293e730ae6",
            "placeholder": "​",
            "style": "IPY_MODEL_0c11710d44ac470f9a50a5b786b163b1",
            "value": "100%"
          }
        },
        "95d3608d114040f59aa03b29ad9629be": {
          "model_module": "@jupyter-widgets/controls",
          "model_name": "FloatProgressModel",
          "model_module_version": "1.5.0",
          "state": {
            "_dom_classes": [],
            "_model_module": "@jupyter-widgets/controls",
            "_model_module_version": "1.5.0",
            "_model_name": "FloatProgressModel",
            "_view_count": null,
            "_view_module": "@jupyter-widgets/controls",
            "_view_module_version": "1.5.0",
            "_view_name": "ProgressView",
            "bar_style": "success",
            "description": "",
            "description_tooltip": null,
            "layout": "IPY_MODEL_7859c30c2b8c4a61a488c789fc6ed0fe",
            "max": 2500,
            "min": 0,
            "orientation": "horizontal",
            "style": "IPY_MODEL_d42b999aa9ed4aa3ad070e1d6bdb38df",
            "value": 2500
          }
        },
        "f27bb92b4a464bb6a7b9ed0a655f7010": {
          "model_module": "@jupyter-widgets/controls",
          "model_name": "HTMLModel",
          "model_module_version": "1.5.0",
          "state": {
            "_dom_classes": [],
            "_model_module": "@jupyter-widgets/controls",
            "_model_module_version": "1.5.0",
            "_model_name": "HTMLModel",
            "_view_count": null,
            "_view_module": "@jupyter-widgets/controls",
            "_view_module_version": "1.5.0",
            "_view_name": "HTMLView",
            "description": "",
            "description_tooltip": null,
            "layout": "IPY_MODEL_fde627a5726a4e6a8c8f39b444976885",
            "placeholder": "​",
            "style": "IPY_MODEL_3f9dd4df2531431bbc9f57a34c44f93b",
            "value": " 2500/2500 [11:23&lt;00:00,  3.67it/s]"
          }
        },
        "2495f888bd6d4f1c813183ff62343eb7": {
          "model_module": "@jupyter-widgets/base",
          "model_name": "LayoutModel",
          "model_module_version": "1.2.0",
          "state": {
            "_model_module": "@jupyter-widgets/base",
            "_model_module_version": "1.2.0",
            "_model_name": "LayoutModel",
            "_view_count": null,
            "_view_module": "@jupyter-widgets/base",
            "_view_module_version": "1.2.0",
            "_view_name": "LayoutView",
            "align_content": null,
            "align_items": null,
            "align_self": null,
            "border": null,
            "bottom": null,
            "display": null,
            "flex": null,
            "flex_flow": null,
            "grid_area": null,
            "grid_auto_columns": null,
            "grid_auto_flow": null,
            "grid_auto_rows": null,
            "grid_column": null,
            "grid_gap": null,
            "grid_row": null,
            "grid_template_areas": null,
            "grid_template_columns": null,
            "grid_template_rows": null,
            "height": null,
            "justify_content": null,
            "justify_items": null,
            "left": null,
            "margin": null,
            "max_height": null,
            "max_width": null,
            "min_height": null,
            "min_width": null,
            "object_fit": null,
            "object_position": null,
            "order": null,
            "overflow": null,
            "overflow_x": null,
            "overflow_y": null,
            "padding": null,
            "right": null,
            "top": null,
            "visibility": null,
            "width": null
          }
        },
        "eea2e64a25454e1fad0222293e730ae6": {
          "model_module": "@jupyter-widgets/base",
          "model_name": "LayoutModel",
          "model_module_version": "1.2.0",
          "state": {
            "_model_module": "@jupyter-widgets/base",
            "_model_module_version": "1.2.0",
            "_model_name": "LayoutModel",
            "_view_count": null,
            "_view_module": "@jupyter-widgets/base",
            "_view_module_version": "1.2.0",
            "_view_name": "LayoutView",
            "align_content": null,
            "align_items": null,
            "align_self": null,
            "border": null,
            "bottom": null,
            "display": null,
            "flex": null,
            "flex_flow": null,
            "grid_area": null,
            "grid_auto_columns": null,
            "grid_auto_flow": null,
            "grid_auto_rows": null,
            "grid_column": null,
            "grid_gap": null,
            "grid_row": null,
            "grid_template_areas": null,
            "grid_template_columns": null,
            "grid_template_rows": null,
            "height": null,
            "justify_content": null,
            "justify_items": null,
            "left": null,
            "margin": null,
            "max_height": null,
            "max_width": null,
            "min_height": null,
            "min_width": null,
            "object_fit": null,
            "object_position": null,
            "order": null,
            "overflow": null,
            "overflow_x": null,
            "overflow_y": null,
            "padding": null,
            "right": null,
            "top": null,
            "visibility": null,
            "width": null
          }
        },
        "0c11710d44ac470f9a50a5b786b163b1": {
          "model_module": "@jupyter-widgets/controls",
          "model_name": "DescriptionStyleModel",
          "model_module_version": "1.5.0",
          "state": {
            "_model_module": "@jupyter-widgets/controls",
            "_model_module_version": "1.5.0",
            "_model_name": "DescriptionStyleModel",
            "_view_count": null,
            "_view_module": "@jupyter-widgets/base",
            "_view_module_version": "1.2.0",
            "_view_name": "StyleView",
            "description_width": ""
          }
        },
        "7859c30c2b8c4a61a488c789fc6ed0fe": {
          "model_module": "@jupyter-widgets/base",
          "model_name": "LayoutModel",
          "model_module_version": "1.2.0",
          "state": {
            "_model_module": "@jupyter-widgets/base",
            "_model_module_version": "1.2.0",
            "_model_name": "LayoutModel",
            "_view_count": null,
            "_view_module": "@jupyter-widgets/base",
            "_view_module_version": "1.2.0",
            "_view_name": "LayoutView",
            "align_content": null,
            "align_items": null,
            "align_self": null,
            "border": null,
            "bottom": null,
            "display": null,
            "flex": null,
            "flex_flow": null,
            "grid_area": null,
            "grid_auto_columns": null,
            "grid_auto_flow": null,
            "grid_auto_rows": null,
            "grid_column": null,
            "grid_gap": null,
            "grid_row": null,
            "grid_template_areas": null,
            "grid_template_columns": null,
            "grid_template_rows": null,
            "height": null,
            "justify_content": null,
            "justify_items": null,
            "left": null,
            "margin": null,
            "max_height": null,
            "max_width": null,
            "min_height": null,
            "min_width": null,
            "object_fit": null,
            "object_position": null,
            "order": null,
            "overflow": null,
            "overflow_x": null,
            "overflow_y": null,
            "padding": null,
            "right": null,
            "top": null,
            "visibility": null,
            "width": null
          }
        },
        "d42b999aa9ed4aa3ad070e1d6bdb38df": {
          "model_module": "@jupyter-widgets/controls",
          "model_name": "ProgressStyleModel",
          "model_module_version": "1.5.0",
          "state": {
            "_model_module": "@jupyter-widgets/controls",
            "_model_module_version": "1.5.0",
            "_model_name": "ProgressStyleModel",
            "_view_count": null,
            "_view_module": "@jupyter-widgets/base",
            "_view_module_version": "1.2.0",
            "_view_name": "StyleView",
            "bar_color": null,
            "description_width": ""
          }
        },
        "fde627a5726a4e6a8c8f39b444976885": {
          "model_module": "@jupyter-widgets/base",
          "model_name": "LayoutModel",
          "model_module_version": "1.2.0",
          "state": {
            "_model_module": "@jupyter-widgets/base",
            "_model_module_version": "1.2.0",
            "_model_name": "LayoutModel",
            "_view_count": null,
            "_view_module": "@jupyter-widgets/base",
            "_view_module_version": "1.2.0",
            "_view_name": "LayoutView",
            "align_content": null,
            "align_items": null,
            "align_self": null,
            "border": null,
            "bottom": null,
            "display": null,
            "flex": null,
            "flex_flow": null,
            "grid_area": null,
            "grid_auto_columns": null,
            "grid_auto_flow": null,
            "grid_auto_rows": null,
            "grid_column": null,
            "grid_gap": null,
            "grid_row": null,
            "grid_template_areas": null,
            "grid_template_columns": null,
            "grid_template_rows": null,
            "height": null,
            "justify_content": null,
            "justify_items": null,
            "left": null,
            "margin": null,
            "max_height": null,
            "max_width": null,
            "min_height": null,
            "min_width": null,
            "object_fit": null,
            "object_position": null,
            "order": null,
            "overflow": null,
            "overflow_x": null,
            "overflow_y": null,
            "padding": null,
            "right": null,
            "top": null,
            "visibility": null,
            "width": null
          }
        },
        "3f9dd4df2531431bbc9f57a34c44f93b": {
          "model_module": "@jupyter-widgets/controls",
          "model_name": "DescriptionStyleModel",
          "model_module_version": "1.5.0",
          "state": {
            "_model_module": "@jupyter-widgets/controls",
            "_model_module_version": "1.5.0",
            "_model_name": "DescriptionStyleModel",
            "_view_count": null,
            "_view_module": "@jupyter-widgets/base",
            "_view_module_version": "1.2.0",
            "_view_name": "StyleView",
            "description_width": ""
          }
        }
      }
    }
  },
  "cells": [
    {
      "cell_type": "code",
      "metadata": {
        "id": "ll32NBzh3T-t"
      },
      "source": [
        "from __future__ import print_function\n",
        "import torch\n",
        "import torch.nn as nn\n",
        "import torch.nn.functional as F\n",
        "import torch.optim as optim\n",
        "from torchvision import datasets, transforms\n",
        "\n",
        "from model import Net\n",
        "from utils import data_loaders, train, test, triangular_plot,train_transform,test_transform\n",
        "\n",
        "from torch.optim.lr_scheduler import StepLR\n",
        "\n",
        "\n",
        "\n",
        "\n"
      ],
      "execution_count": null,
      "outputs": []
    },
    {
      "cell_type": "code",
      "metadata": {
        "id": "GgZR15ctkj6P"
      },
      "source": [
        "!pip install torch-lr-finder\n"
      ],
      "execution_count": null,
      "outputs": []
    },
    {
      "cell_type": "code",
      "source": [
        "import torch.optim as optim\n",
        "\n",
        "def hi_optimizer(model, lr):\n",
        "    optimizer = optim.SGD(model.parameters(), lr=lr, momentum=0.9)\n",
        "    return optimizer"
      ],
      "metadata": {
        "id": "yTTUE7465NTE"
      },
      "execution_count": 27,
      "outputs": []
    },
    {
      "cell_type": "code",
      "metadata": {
        "id": "qm5mxj-x3wCJ"
      },
      "source": [
        "use_cuda = torch.cuda.is_available()\n",
        "device = torch.device(\"cuda\" if use_cuda else \"cpu\")\n",
        "\n",
        "classes = ('plane', 'car', 'bird', 'cat',\n",
        "           'deer', 'dog', 'frog', 'horse', 'ship', 'truck')"
      ],
      "execution_count": 19,
      "outputs": []
    },
    {
      "cell_type": "code",
      "metadata": {
        "colab": {
          "base_uri": "https://localhost:8080/"
        },
        "id": "tRbm6MhB2LEc",
        "outputId": "35d07cd1-f26f-43cc-ba31-bf2a08d70c68"
      },
      "source": [
        "from torchsummary import summary\n",
        "\n",
        "net = Net()\n",
        "\n",
        "use_cuda = torch.cuda.is_available()\n",
        "device = torch.device(\"cuda\" if use_cuda else \"cpu\")\n",
        "model = net.to(device)\n",
        "summary(model, input_size=(3, 32, 32))"
      ],
      "execution_count": 20,
      "outputs": [
        {
          "output_type": "stream",
          "name": "stdout",
          "text": [
            "----------------------------------------------------------------\n",
            "        Layer (type)               Output Shape         Param #\n",
            "================================================================\n",
            "            Conv2d-1           [-1, 64, 32, 32]           1,792\n",
            "       BatchNorm2d-2           [-1, 64, 32, 32]             128\n",
            "           Dropout-3           [-1, 64, 32, 32]               0\n",
            "            Conv2d-4          [-1, 128, 32, 32]          73,856\n",
            "         MaxPool2d-5          [-1, 128, 16, 16]               0\n",
            "       BatchNorm2d-6          [-1, 128, 16, 16]             256\n",
            "           Dropout-7          [-1, 128, 16, 16]               0\n",
            "            Conv2d-8          [-1, 128, 16, 16]         147,584\n",
            "       BatchNorm2d-9          [-1, 128, 16, 16]             256\n",
            "           Conv2d-10          [-1, 128, 16, 16]         147,584\n",
            "      BatchNorm2d-11          [-1, 128, 16, 16]             256\n",
            "           Conv2d-12          [-1, 256, 14, 14]         295,168\n",
            "        MaxPool2d-13            [-1, 256, 7, 7]               0\n",
            "      BatchNorm2d-14            [-1, 256, 7, 7]             512\n",
            "          Dropout-15            [-1, 256, 7, 7]               0\n",
            "           Conv2d-16            [-1, 512, 7, 7]       1,180,160\n",
            "      BatchNorm2d-17            [-1, 512, 7, 7]           1,024\n",
            "          Dropout-18            [-1, 512, 7, 7]               0\n",
            "           Conv2d-19            [-1, 512, 7, 7]       2,359,808\n",
            "      BatchNorm2d-20            [-1, 512, 7, 7]           1,024\n",
            "           Conv2d-21            [-1, 512, 7, 7]       2,359,808\n",
            "      BatchNorm2d-22            [-1, 512, 7, 7]           1,024\n",
            "        MaxPool2d-23            [-1, 512, 2, 2]               0\n",
            "          Flatten-24                 [-1, 2048]               0\n",
            "          Dropout-25                 [-1, 2048]               0\n",
            "           Linear-26                   [-1, 10]          20,490\n",
            "================================================================\n",
            "Total params: 6,590,730\n",
            "Trainable params: 6,590,730\n",
            "Non-trainable params: 0\n",
            "----------------------------------------------------------------\n",
            "Input size (MB): 0.01\n",
            "Forward/backward pass size (MB): 6.31\n",
            "Params size (MB): 25.14\n",
            "Estimated Total Size (MB): 31.46\n",
            "----------------------------------------------------------------\n"
          ]
        },
        {
          "output_type": "stream",
          "name": "stderr",
          "text": [
            "/content/model.py:48: UserWarning: Implicit dimension choice for log_softmax has been deprecated. Change the call to include dim=X as an argument.\n",
            "  return F.log_softmax(f_x2)\n"
          ]
        }
      ]
    },
    {
      "cell_type": "code",
      "metadata": {
        "id": "UNn_hkCr62xz",
        "colab": {
          "base_uri": "https://localhost:8080/"
        },
        "outputId": "12946a04-1629-4b05-c37b-b9b2745686b8"
      },
      "source": [
        "train_losses = []\n",
        "test_losses = []\n",
        "batch_size = 512\n",
        "train_loader, test_loader, sample_loader = data_loaders(batch_size, train_transform, test_transform)\n",
        "\n",
        "\n",
        "optimizer= hi_optimizer(model, 0.001)\n"
      ],
      "execution_count": 28,
      "outputs": [
        {
          "output_type": "stream",
          "name": "stdout",
          "text": [
            "Files already downloaded and verified\n",
            "Files already downloaded and verified\n"
          ]
        }
      ]
    },
    {
      "cell_type": "code",
      "metadata": {
        "id": "Uv6TkP-Rt4ts"
      },
      "source": [
        "#CORRECT THIS CODE\n",
        "show_images(sample_loader, classes)"
      ],
      "execution_count": null,
      "outputs": []
    },
    {
      "cell_type": "code",
      "metadata": {
        "colab": {
          "base_uri": "https://localhost:8080/",
          "height": 156,
          "referenced_widgets": [
            "9c10d25e1db4498183868390a424870e",
            "9748ba4cf1d3422893062d75b68c9c23",
            "95d3608d114040f59aa03b29ad9629be",
            "f27bb92b4a464bb6a7b9ed0a655f7010",
            "2495f888bd6d4f1c813183ff62343eb7",
            "eea2e64a25454e1fad0222293e730ae6",
            "0c11710d44ac470f9a50a5b786b163b1",
            "7859c30c2b8c4a61a488c789fc6ed0fe",
            "d42b999aa9ed4aa3ad070e1d6bdb38df",
            "fde627a5726a4e6a8c8f39b444976885",
            "3f9dd4df2531431bbc9f57a34c44f93b"
          ]
        },
        "id": "fada38xHlhB6",
        "outputId": "eab5fbb2-7499-4379-9ad7-c3797174e7a9"
      },
      "source": [
        "from torch_lr_finder import LRFinder\n",
        "\n",
        "\n",
        "model = net.to(device)\n",
        "optimizer_testing = hi_optimizer(model, 0.0005)\n",
        "criterion = nn.CrossEntropyLoss()\n",
        "lr_finder = LRFinder(model, optimizer_testing, criterion, device=\"cuda\")\n",
        "lr_finder.range_test(train_loader, end_lr=0.1, num_iter=2500, step_mode=\"exp\", diverge_th=20)"
      ],
      "execution_count": 29,
      "outputs": [
        {
          "output_type": "stream",
          "name": "stderr",
          "text": [
            "/usr/local/lib/python3.10/dist-packages/torch_lr_finder/lr_finder.py:5: TqdmExperimentalWarning: Using `tqdm.autonotebook.tqdm` in notebook mode. Use `tqdm.tqdm` instead to force console mode (e.g. in jupyter console)\n",
            "  from tqdm.autonotebook import tqdm\n"
          ]
        },
        {
          "output_type": "display_data",
          "data": {
            "text/plain": [
              "  0%|          | 0/2500 [00:00<?, ?it/s]"
            ],
            "application/vnd.jupyter.widget-view+json": {
              "version_major": 2,
              "version_minor": 0,
              "model_id": "9c10d25e1db4498183868390a424870e"
            }
          },
          "metadata": {}
        },
        {
          "output_type": "stream",
          "name": "stderr",
          "text": [
            "/content/model.py:48: UserWarning: Implicit dimension choice for log_softmax has been deprecated. Change the call to include dim=X as an argument.\n",
            "  return F.log_softmax(f_x2)\n"
          ]
        },
        {
          "output_type": "stream",
          "name": "stdout",
          "text": [
            "Learning rate search finished. See the graph with {finder_name}.plot()\n"
          ]
        }
      ]
    },
    {
      "cell_type": "code",
      "metadata": {
        "colab": {
          "base_uri": "https://localhost:8080/",
          "height": 466
        },
        "id": "WDUv4hrdly0F",
        "outputId": "07ab1099-0ae2-462c-dc49-506cad5c5c7b"
      },
      "source": [
        "lr_finder.plot(suggest_lr=False, log_lr=False)"
      ],
      "execution_count": 30,
      "outputs": [
        {
          "output_type": "display_data",
          "data": {
            "text/plain": [
              "<Figure size 640x480 with 1 Axes>"
            ],
            "image/png": "[encoded data removed]"
          },
          "metadata": {}
        },
        {
          "output_type": "execute_result",
          "data": {
            "text/plain": [
              "<Axes: xlabel='Learning rate', ylabel='Loss'>"
            ]
          },
          "metadata": {},
          "execution_count": 30
        }
      ]
    },
    {
      "cell_type": "code",
      "metadata": {
        "colab": {
          "base_uri": "https://localhost:8080/"
        },
        "id": "NmGxjLw05wLD",
        "outputId": "25d72afb-5c1c-4dda-b1c0-347479cc0945"
      },
      "source": [
        "\n",
        "scheduler = optim.lr_scheduler.OneCycleLR(optimizer,\n",
        "max_lr= 0.01, epochs=27, steps_per_epoch= 100 ,pct_start= 0.22 )\n",
        "for epoch in range(1, 28):\n",
        "\n",
        "    train(model, device, train_loader, optimizer, epoch, scheduler)\n",
        "\n",
        "    test(model, device, test_loader)\n",
        "\n",
        "\n",
        "\n",
        "    print('Epoch-{0} lr: {1}'.format(epoch,optimizer.param_groups[0]['lr']))"
      ],
      "execution_count": null,
      "outputs": [
        {
          "output_type": "stream",
          "name": "stderr",
          "text": [
            "\r  0%|          | 0/98 [00:00<?, ?it/s]<ipython-input-11-3c0bbcd630e5>:48: UserWarning: Implicit dimension choice for log_softmax has been deprecated. Change the call to include dim=X as an argument.\n",
            "  return F.log_softmax(f_x2)\n",
            "Loss=0.034111034125089645 Batch_id=97 Accuracy=99.03: 100%|██████████| 98/98 [00:28<00:00,  3.47it/s]\n"
          ]
        },
        {
          "output_type": "stream",
          "name": "stdout",
          "text": [
            "\n",
            "Test set: Average loss: 0.3810, Accuracy: 8981/10000 (89.81%)\n",
            "\n",
            "Epoch-1 lr: 0.001032523016150198\n"
          ]
        },
        {
          "output_type": "stream",
          "name": "stderr",
          "text": [
            "Loss=0.014031550846993923 Batch_id=97 Accuracy=98.94: 100%|██████████| 98/98 [00:26<00:00,  3.63it/s]\n"
          ]
        },
        {
          "output_type": "stream",
          "name": "stdout",
          "text": [
            "\n",
            "Test set: Average loss: 0.3853, Accuracy: 8978/10000 (89.78%)\n",
            "\n",
            "Epoch-2 lr: 0.0027633898287842346\n"
          ]
        },
        {
          "output_type": "stream",
          "name": "stderr",
          "text": [
            "Loss=0.022056180983781815 Batch_id=97 Accuracy=98.99: 100%|██████████| 98/98 [00:26<00:00,  3.68it/s]\n"
          ]
        },
        {
          "output_type": "stream",
          "name": "stdout",
          "text": [
            "\n",
            "Test set: Average loss: 0.3761, Accuracy: 9016/10000 (90.16%)\n",
            "\n",
            "Epoch-3 lr: 0.0051364283142014576\n"
          ]
        },
        {
          "output_type": "stream",
          "name": "stderr",
          "text": [
            "Loss=0.018762314692139626 Batch_id=97 Accuracy=98.99: 100%|██████████| 98/98 [00:27<00:00,  3.60it/s]\n"
          ]
        },
        {
          "output_type": "stream",
          "name": "stdout",
          "text": [
            "\n",
            "Test set: Average loss: 0.3913, Accuracy: 8937/10000 (89.37%)\n",
            "\n",
            "Epoch-4 lr: 0.007526221197303283\n"
          ]
        },
        {
          "output_type": "stream",
          "name": "stderr",
          "text": [
            "Loss=0.04935882240533829 Batch_id=97 Accuracy=98.91: 100%|██████████| 98/98 [00:26<00:00,  3.66it/s]\n"
          ]
        },
        {
          "output_type": "stream",
          "name": "stdout",
          "text": [
            "\n",
            "Test set: Average loss: 0.3746, Accuracy: 9015/10000 (90.15%)\n",
            "\n",
            "Epoch-5 lr: 0.00930293556042561\n"
          ]
        },
        {
          "output_type": "stream",
          "name": "stderr",
          "text": [
            "Loss=0.048726875334978104 Batch_id=97 Accuracy=98.90: 100%|██████████| 98/98 [00:26<00:00,  3.64it/s]\n"
          ]
        },
        {
          "output_type": "stream",
          "name": "stdout",
          "text": [
            "\n",
            "Test set: Average loss: 0.3876, Accuracy: 8983/10000 (89.83%)\n",
            "\n",
            "Epoch-6 lr: 0.009998316100318639\n"
          ]
        },
        {
          "output_type": "stream",
          "name": "stderr",
          "text": [
            "Loss=0.02978348173201084 Batch_id=97 Accuracy=98.92: 100%|██████████| 98/98 [00:26<00:00,  3.64it/s]\n"
          ]
        },
        {
          "output_type": "stream",
          "name": "stdout",
          "text": [
            "\n",
            "Test set: Average loss: 0.4052, Accuracy: 8938/10000 (89.38%)\n",
            "\n",
            "Epoch-7 lr: 0.009951961380434462\n"
          ]
        },
        {
          "output_type": "stream",
          "name": "stderr",
          "text": [
            "Loss=0.03130257874727249 Batch_id=97 Accuracy=99.03: 100%|██████████| 98/98 [00:26<00:00,  3.65it/s]\n"
          ]
        },
        {
          "output_type": "stream",
          "name": "stdout",
          "text": [
            "\n",
            "Test set: Average loss: 0.3821, Accuracy: 9006/10000 (90.06%)\n",
            "\n",
            "Epoch-8 lr: 0.009798419730892363\n"
          ]
        },
        {
          "output_type": "stream",
          "name": "stderr",
          "text": [
            "Loss=0.040701862424612045 Batch_id=97 Accuracy=98.98: 100%|██████████| 98/98 [00:27<00:00,  3.62it/s]\n"
          ]
        },
        {
          "output_type": "stream",
          "name": "stdout",
          "text": [
            "\n",
            "Test set: Average loss: 0.3617, Accuracy: 9025/10000 (90.25%)\n",
            "\n",
            "Epoch-9 lr: 0.00954251154975481\n"
          ]
        },
        {
          "output_type": "stream",
          "name": "stderr",
          "text": [
            "Loss=0.040782392024993896 Batch_id=97 Accuracy=98.97: 100%|██████████| 98/98 [00:26<00:00,  3.64it/s]\n"
          ]
        },
        {
          "output_type": "stream",
          "name": "stdout",
          "text": [
            "\n",
            "Test set: Average loss: 0.3863, Accuracy: 8997/10000 (89.97%)\n",
            "\n",
            "Epoch-10 lr: 0.009189696247320881\n"
          ]
        },
        {
          "output_type": "stream",
          "name": "stderr",
          "text": [
            "Loss=0.011947130784392357 Batch_id=97 Accuracy=99.01: 100%|██████████| 98/98 [00:26<00:00,  3.65it/s]\n"
          ]
        },
        {
          "output_type": "stream",
          "name": "stdout",
          "text": [
            "\n",
            "Test set: Average loss: 0.3782, Accuracy: 9018/10000 (90.18%)\n",
            "\n",
            "Epoch-11 lr: 0.00874750059935531\n"
          ]
        },
        {
          "output_type": "stream",
          "name": "stderr",
          "text": [
            "Loss=0.012043007649481297 Batch_id=97 Accuracy=99.09: 100%|██████████| 98/98 [00:26<00:00,  3.64it/s]\n"
          ]
        },
        {
          "output_type": "stream",
          "name": "stdout",
          "text": [
            "\n",
            "Test set: Average loss: 0.3785, Accuracy: 9035/10000 (90.35%)\n",
            "\n",
            "Epoch-12 lr: 0.008225358174820143\n"
          ]
        },
        {
          "output_type": "stream",
          "name": "stderr",
          "text": [
            "Loss=0.05117029324173927 Batch_id=97 Accuracy=99.10: 100%|██████████| 98/98 [00:26<00:00,  3.63it/s]\n"
          ]
        },
        {
          "output_type": "stream",
          "name": "stdout",
          "text": [
            "\n",
            "Test set: Average loss: 0.3860, Accuracy: 9011/10000 (90.11%)\n",
            "\n",
            "Epoch-13 lr: 0.007634408085085026\n"
          ]
        },
        {
          "output_type": "stream",
          "name": "stderr",
          "text": [
            "Loss=0.032862938940525055 Batch_id=97 Accuracy=99.11: 100%|██████████| 98/98 [00:26<00:00,  3.64it/s]\n"
          ]
        },
        {
          "output_type": "stream",
          "name": "stdout",
          "text": [
            "\n",
            "Test set: Average loss: 0.3928, Accuracy: 9001/10000 (90.01%)\n",
            "\n",
            "Epoch-14 lr: 0.006987257347994422\n"
          ]
        },
        {
          "output_type": "stream",
          "name": "stderr",
          "text": [
            "Loss=0.04435350373387337 Batch_id=97 Accuracy=99.14: 100%|██████████| 98/98 [00:26<00:00,  3.65it/s]\n"
          ]
        },
        {
          "output_type": "stream",
          "name": "stdout",
          "text": [
            "\n",
            "Test set: Average loss: 0.3834, Accuracy: 9016/10000 (90.16%)\n",
            "\n",
            "Epoch-15 lr: 0.006297711936391508\n"
          ]
        },
        {
          "output_type": "stream",
          "name": "stderr",
          "text": [
            "Loss=0.03577757999300957 Batch_id=97 Accuracy=99.12: 100%|██████████| 98/98 [00:26<00:00,  3.65it/s]\n"
          ]
        },
        {
          "output_type": "stream",
          "name": "stdout",
          "text": [
            "\n",
            "Test set: Average loss: 0.4103, Accuracy: 8981/10000 (89.81%)\n",
            "\n",
            "Epoch-16 lr: 0.005580482248767869\n"
          ]
        },
        {
          "output_type": "stream",
          "name": "stderr",
          "text": [
            "Loss=0.015103337354958057 Batch_id=97 Accuracy=99.11: 100%|██████████| 98/98 [00:26<00:00,  3.64it/s]\n"
          ]
        },
        {
          "output_type": "stream",
          "name": "stdout",
          "text": [
            "\n",
            "Test set: Average loss: 0.3940, Accuracy: 8994/10000 (89.94%)\n",
            "\n",
            "Epoch-17 lr: 0.0048508692853729525\n"
          ]
        },
        {
          "output_type": "stream",
          "name": "stderr",
          "text": [
            "Loss=0.02295265719294548 Batch_id=97 Accuracy=99.18: 100%|██████████| 98/98 [00:27<00:00,  3.63it/s]\n"
          ]
        },
        {
          "output_type": "stream",
          "name": "stdout",
          "text": [
            "\n",
            "Test set: Average loss: 0.3931, Accuracy: 9006/10000 (90.06%)\n",
            "\n",
            "Epoch-18 lr: 0.0041244382247367945\n"
          ]
        },
        {
          "output_type": "stream",
          "name": "stderr",
          "text": [
            "Loss=0.03399107977747917 Batch_id=97 Accuracy=99.23: 100%|██████████| 98/98 [00:27<00:00,  3.63it/s]\n"
          ]
        },
        {
          "output_type": "stream",
          "name": "stdout",
          "text": [
            "\n",
            "Test set: Average loss: 0.3930, Accuracy: 9009/10000 (90.09%)\n",
            "\n",
            "Epoch-19 lr: 0.003416686364352515\n"
          ]
        },
        {
          "output_type": "stream",
          "name": "stderr",
          "text": [
            "Loss=0.01662544347345829 Batch_id=97 Accuracy=99.21: 100%|██████████| 98/98 [00:26<00:00,  3.65it/s]\n"
          ]
        },
        {
          "output_type": "stream",
          "name": "stdout",
          "text": [
            "\n",
            "Test set: Average loss: 0.4007, Accuracy: 9008/10000 (90.08%)\n",
            "\n",
            "Epoch-20 lr: 0.00274271250949707\n"
          ]
        },
        {
          "output_type": "stream",
          "name": "stderr",
          "text": [
            "Loss=0.014536944217979908 Batch_id=97 Accuracy=99.26: 100%|██████████| 98/98 [00:26<00:00,  3.63it/s]\n"
          ]
        },
        {
          "output_type": "stream",
          "name": "stdout",
          "text": [
            "\n",
            "Test set: Average loss: 0.3880, Accuracy: 9015/10000 (90.15%)\n",
            "\n",
            "Epoch-21 lr: 0.0021168948632750125\n"
          ]
        },
        {
          "output_type": "stream",
          "name": "stderr",
          "text": [
            "Loss=0.014654545113444328 Batch_id=97 Accuracy=99.28: 100%|██████████| 98/98 [00:27<00:00,  3.63it/s]\n"
          ]
        },
        {
          "output_type": "stream",
          "name": "stdout",
          "text": [
            "\n",
            "Test set: Average loss: 0.3991, Accuracy: 9005/10000 (90.05%)\n",
            "\n",
            "Epoch-22 lr: 0.0015525842896092724\n"
          ]
        },
        {
          "output_type": "stream",
          "name": "stderr",
          "text": [
            "Loss=0.03762020170688629 Batch_id=97 Accuracy=99.31: 100%|██████████| 98/98 [00:26<00:00,  3.64it/s]\n"
          ]
        },
        {
          "output_type": "stream",
          "name": "stdout",
          "text": [
            "\n",
            "Test set: Average loss: 0.3928, Accuracy: 9021/10000 (90.21%)\n",
            "\n",
            "Epoch-23 lr: 0.00106181949294477\n"
          ]
        },
        {
          "output_type": "stream",
          "name": "stderr",
          "text": [
            "Loss=0.026390038430690765 Batch_id=97 Accuracy=99.34: 100%|██████████| 98/98 [00:26<00:00,  3.63it/s]\n"
          ]
        },
        {
          "output_type": "stream",
          "name": "stdout",
          "text": [
            "\n",
            "Test set: Average loss: 0.3923, Accuracy: 9031/10000 (90.31%)\n",
            "\n",
            "Epoch-24 lr: 0.0006550701908709507\n"
          ]
        },
        {
          "output_type": "stream",
          "name": "stderr",
          "text": [
            "Loss=0.022126197814941406 Batch_id=97 Accuracy=99.39: 100%|██████████| 98/98 [00:26<00:00,  3.63it/s]\n"
          ]
        },
        {
          "output_type": "stream",
          "name": "stdout",
          "text": [
            "\n",
            "Test set: Average loss: 0.3958, Accuracy: 9031/10000 (90.31%)\n",
            "\n",
            "Epoch-25 lr: 0.0003410137586831835\n"
          ]
        },
        {
          "output_type": "stream",
          "name": "stderr",
          "text": [
            "Loss=0.018512610346078873 Batch_id=97 Accuracy=99.29: 100%|██████████| 98/98 [00:26<00:00,  3.65it/s]\n"
          ]
        },
        {
          "output_type": "stream",
          "name": "stdout",
          "text": [
            "\n",
            "Test set: Average loss: 0.3954, Accuracy: 9034/10000 (90.34%)\n",
            "\n",
            "Epoch-26 lr: 0.0001263501108303091\n"
          ]
        },
        {
          "output_type": "stream",
          "name": "stderr",
          "text": [
            "Loss=0.0283829253166914 Batch_id=97 Accuracy=99.34: 100%|██████████| 98/98 [00:26<00:00,  3.65it/s]\n"
          ]
        },
        {
          "output_type": "stream",
          "name": "stdout",
          "text": [
            "\n",
            "Test set: Average loss: 0.3943, Accuracy: 9034/10000 (90.34%)\n",
            "\n",
            "Epoch-27 lr: 1.5658768469943832e-05\n"
          ]
        }
      ]
    },
    {
      "cell_type": "code",
      "metadata": {
        "id": "uDZUoRIwjgzv",
        "colab": {
          "base_uri": "https://localhost:8080/",
          "height": 447
        },
        "outputId": "dac3d67a-ee32-466f-d06d-ded64932f358"
      },
      "source": [
        "# min_lr= 0.001125 , max_lr= 0.009\n",
        "import matplotlib.pyplot as plt\n",
        "plt.plot(lr_list, train_acc)\n"
      ],
      "execution_count": null,
      "outputs": [
        {
          "output_type": "execute_result",
          "data": {
            "text/plain": [
              "[<matplotlib.lines.Line2D at 0x78b464777370>]"
            ]
          },
          "metadata": {},
          "execution_count": 20
        },
        {
          "output_type": "display_data",
          "data": {
            "text/plain": [
              "<Figure size 640x480 with 1 Axes>"
            ],
            "image/png": "[encoded data removed]"
          },
          "metadata": {}
        }
      ]
    },
    {
      "cell_type": "code",
      "metadata": {
        "id": "Kqc2L-Ndjqh-",
        "colab": {
          "base_uri": "https://localhost:8080/",
          "height": 430
        },
        "outputId": "4e9bcb14-2655-4be9-8a3f-9253e07f70e3"
      },
      "source": [
        "# Plot a graph between LR and iterations\n",
        "\n",
        "# import cyclic_plot\n",
        "\n",
        "# cyclic_plot.triangular_plot(iterations= 2442, stepsize= 500, lr_max= 0.0099901336 , lr_min= 0.00124876)\n",
        "triangular_plot(iterations= 2442, stepsize= 500, lr_max= 0.0099901336 , lr_min= 0.00124876)"
      ],
      "execution_count": null,
      "outputs": [
        {
          "output_type": "display_data",
          "data": {
            "text/plain": [
              "<Figure size 640x480 with 1 Axes>"
            ],
            "image/png": "[encoded data removed]"
          },
          "metadata": {}
        }
      ]
    },
    {
      "cell_type": "code",
      "source": [
        "# define a list of class labels in the correct order\n",
        "class_labels = ['airplane', 'automobile', 'bird', 'cat', 'deer', 'dog', 'frog', 'horse', 'ship', 'truck']  # replace this with the actual labels of your classes\n",
        "\n",
        "import torch\n",
        "import torchvision\n",
        "%matplotlib inline\n",
        "\n",
        "def get_wrong_predictions(model, test_loader):\n",
        "    model.eval()\n",
        "    test_loss = 0\n",
        "    correct = 0\n",
        "\n",
        "    wrong_correct = []\n",
        "    wrong_predicted = []\n",
        "    wrong_image_data = []\n",
        "\n",
        "    with torch.no_grad():\n",
        "        for data, target in test_loader:\n",
        "            data, target = data.to(device), target.to(device)\n",
        "            output = model(data)\n",
        "            # test_loss += F.nll_loss(output, target, reduction='sum').item()  # sum up batch loss\n",
        "            pred = output.argmax(dim=1, keepdim=True)  # get the index of the max log-probability\n",
        "            status = pred.eq(target.view_as(pred))\n",
        "            # correct += status.sum().item()\n",
        "\n",
        "            mistakes, _ = torch.where(status==False)\n",
        "            if len(mistakes):\n",
        "                m_data = data[mistakes]\n",
        "                m_target = target[mistakes]\n",
        "                m_output = output[mistakes]\n",
        "                m_pred = pred[mistakes]\n",
        "                correct = [x.item() for x in m_target.cpu().detach()]\n",
        "                predicted = [x.item() for x in m_pred.cpu().detach()]\n",
        "                image_data = [x for x in m_data.cpu().detach()]\n",
        "\n",
        "                wrong_correct.extend(correct)\n",
        "                wrong_predicted.extend(predicted)\n",
        "                wrong_image_data.extend(image_data)\n",
        "\n",
        "    return wrong_correct, wrong_predicted, wrong_image_data\n",
        "\n",
        "\n",
        "def show_grid(img):\n",
        "    npimg = img.numpy()\n",
        "    plt.imshow(np.transpose(npimg, (1,2,0)), interpolation='nearest')\n",
        "\n",
        "def show_wrong_images(targets, predicts, images, size=30, grid=(5, 4)):\n",
        "    img_data_temp = []\n",
        "    wps = []\n",
        "    actual_predicted = []\n",
        "\n",
        "    for n, (wc, wp, wi) in enumerate(zip(targets, predicts, images)):\n",
        "        wps.append(wp)\n",
        "        img_data_temp.append(wi)\n",
        "        actual_predicted.append((class_labels[wc], class_labels[wp])) # convert indices to class labels\n",
        "        if n>18:\n",
        "            break\n",
        "\n",
        "    fig = plt.figure(figsize=(15,15))\n",
        "\n",
        "    for i in range(len(img_data_temp)):\n",
        "        ax = fig.add_subplot(grid[0], grid[1], i+1)\n",
        "        ax.axis('off')\n",
        "        ax.imshow(img_data_temp[i].permute(1, 2, 0)) # convert from (C,H,W) to (H,W,C) for displaying image\n",
        "        ax.set_title('Actual: '+str(actual_predicted[i][0])+' / Predicted: '+str(actual_predicted[i][1])) # Set title as \"actual label / predicted label\"\n",
        "\n",
        "    plt.show()\n",
        "\n",
        "\n",
        "\n",
        "\n",
        "#Print the wrong predicted Image\n",
        "targets, predicts, images = get_wrong_predictions(model, test_loader)\n",
        "show_wrong_images(targets, predicts, images)\n",
        "\n",
        "\n",
        "for model in model.items():\n",
        "    targets, predicts, images = get_wrong_predictions(model, test_loader)\n",
        "    show_wrong_images(targets, predicts, images)\n",
        "    plt.show()"
      ],
      "metadata": {
        "id": "VVg3fq4Mzra7"
      },
      "execution_count": null,
      "outputs": []
    }
  ]
}